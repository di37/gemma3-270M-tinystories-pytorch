{
 "cells": [
  {
   "cell_type": "code",
   "execution_count": 1,
   "id": "c5bbc42a-1e7f-44a3-940d-fc8dcbfb3fd7",
   "metadata": {},
   "outputs": [],
   "source": [
    "## Model architecture\n",
    "from architecture import model_config, Gemma3Model\n",
    "import torch"
   ]
  },
  {
   "cell_type": "code",
   "execution_count": 2,
   "id": "d2ce8904-6c5a-41d3-85ad-a85f9e2684b4",
   "metadata": {},
   "outputs": [
    {
     "data": {
      "text/plain": [
       "{'vocab_size': 50257,\n",
       " 'context_length': 32768,\n",
       " 'emb_dim': 640,\n",
       " 'n_heads': 4,\n",
       " 'n_layers': 18,\n",
       " 'hidden_dim': 2048,\n",
       " 'head_dim': 256,\n",
       " 'qk_norm': True,\n",
       " 'n_kv_groups': 1,\n",
       " 'rope_local_base': 10000.0,\n",
       " 'rope_base': 1000000.0,\n",
       " 'sliding_window': 512,\n",
       " 'layer_types': ['sliding_attention',\n",
       "  'sliding_attention',\n",
       "  'sliding_attention',\n",
       "  'sliding_attention',\n",
       "  'sliding_attention',\n",
       "  'full_attention',\n",
       "  'sliding_attention',\n",
       "  'sliding_attention',\n",
       "  'sliding_attention',\n",
       "  'sliding_attention',\n",
       "  'sliding_attention',\n",
       "  'full_attention',\n",
       "  'sliding_attention',\n",
       "  'sliding_attention',\n",
       "  'sliding_attention',\n",
       "  'sliding_attention',\n",
       "  'sliding_attention',\n",
       "  'full_attention'],\n",
       " 'dtype': 'bfloat16',\n",
       " 'query_pre_attn_scalar': 256}"
      ]
     },
     "execution_count": 2,
     "metadata": {},
     "output_type": "execute_result"
    }
   ],
   "source": [
    "model_config"
   ]
  },
  {
   "cell_type": "code",
   "execution_count": 3,
   "id": "22900137-13fe-454e-8e81-d6fd68f0ca56",
   "metadata": {},
   "outputs": [],
   "source": [
    "#Load the model\n",
    "model_config[\"dtype\"] = torch.bfloat16\n",
    "torch.manual_seed(123)\n",
    "model = Gemma3Model(model_config)  # re-create the model with same config\n",
    "# device =  \"cuda\" if torch.cuda.is_available() else \"cpu\""
   ]
  },
  {
   "cell_type": "code",
   "execution_count": 5,
   "id": "c102a9b4-cac2-43b7-a299-8bdc3ff33bcb",
   "metadata": {},
   "outputs": [],
   "source": [
    "import tiktoken\n",
    "\n",
    "enc = tiktoken.get_encoding(\"gpt2\")"
   ]
  },
  {
   "cell_type": "code",
   "execution_count": 6,
   "id": "c262a6f4-bcfc-41e9-9f7c-43c08e15e480",
   "metadata": {},
   "outputs": [
    {
     "data": {
      "text/plain": [
       "<All keys matched successfully>"
      ]
     },
     "execution_count": 6,
     "metadata": {},
     "output_type": "execute_result"
    }
   ],
   "source": [
    "device =  \"cuda\" if torch.cuda.is_available() else \"cpu\"\n",
    "best_model_params_path = \"data/models/gpt2_tokenizer/best_model_params.pt\"\n",
    "model.load_state_dict(torch.load(best_model_params_path, map_location=torch.device(device))) # load best model states"
   ]
  },
  {
   "cell_type": "code",
   "execution_count": 11,
   "id": "38e91345-54f3-4c91-8516-f0f905a94a96",
   "metadata": {},
   "outputs": [
    {
     "name": "stdout",
     "output_type": "stream",
     "text": [
      "Once upon a time there was a pumpkin. It was so fast and pretty, and it was very independent. All the other pumpkins on the farm wanted to be feet and fluffy like them.\n",
      "\n",
      "One day the alive pumpkins wanted to be useful. So, it decided to separate them. It used some crunchy leaves, and a little napkin. Then it slowly moved its arms wider and hungrily flashed in the wind.\n",
      "\n",
      "Soon, the pumpkin was so useful! It sparkled in the sunshine, making the garden even bigger. The other pumpkins had lots of fun and they were all playing together. Now the pumpkin was so happy and comfortable. Everyone at the farm was happy too. They had all great flowers and was so happy with the useful pumpkin.Ducky was a happy three year old. He loved to do fun things â€“ but today hungry chicken was feeling especially gone.\n",
      "\n",
      "Ducky trotted off to the nearby farm and found the most delicious looking pie. Snacks's eyes\n"
     ]
    }
   ],
   "source": [
    "sentence = \"Once upon a time there was a pumpkin.\"\n",
    "context = (torch.tensor(enc.encode_ordinary(sentence)).unsqueeze(dim = 0))\n",
    "y = model.generate(context, 200)\n",
    "print(enc.decode(y.squeeze().tolist()))"
   ]
  },
  {
   "cell_type": "code",
   "execution_count": 13,
   "id": "809a3f91-b9c6-415e-a643-002f456f3c22",
   "metadata": {},
   "outputs": [
    {
     "name": "stdout",
     "output_type": "stream",
     "text": [
      "A little girl went to the woods to weigh the scarf. She weighed her shoelaces, then wiped it with a special rag. She applied it to the scarf and smiled.\n",
      "\n",
      "The little girl was very proud of herself and said, \"My scarf is much better than the old one! Now I am ready to hop with it!\".\n",
      "\n",
      "The little girl smiled. She was glad she could help sort the broken comb again.Once upon a time, there was a mop named Oily. Obeyi was always very mischievous. All of her friends asked her to do, but she would never listen.\n",
      "\n",
      "One day, B conductor was happy again and said, â€œLet's unite and race!â€\n",
      "\n",
      "So the mop dipped her feet into the river and they headed out.\n",
      "\n",
      "Emma couldn't wait to race with the mop. She ran to the river, hopped in the countryside, and then she crossed the river quicker and rose.\n",
      "\n",
      "\n"
     ]
    }
   ],
   "source": [
    "sentence = \"A little girl went to the woods\"\n",
    "context = (torch.tensor(enc.encode_ordinary(sentence)).unsqueeze(dim = 0))\n",
    "y = model.generate(context, 200)\n",
    "print(enc.decode(y.squeeze().tolist()))"
   ]
  },
  {
   "cell_type": "code",
   "execution_count": 18,
   "id": "b273596c-192c-4e24-9dec-70b5c9abdfbb",
   "metadata": {},
   "outputs": [
    {
     "name": "stdout",
     "output_type": "stream",
     "text": [
      "A boy told his sister a bedtime story about a flying cat.\n",
      "\n",
      "When they got home, their mom said, \"I love you, but I wonder why you have to sew yourself out of bed.\" Timmy looked at his mom and said, \"Mommy, Icockigeon out a cat drawing. I didn't know!\" His mom replied, \"A cat lurking? What's a cat?\"\n",
      "\n",
      "Timmy thought for a moment and finally said, \"A cat is a good cat, mommy. He's a great design of chasing birds. But he can also be angry with Sammy and his friends.\" His mommy praised him and said, \"That's right, Timmy. You have learned a very important lesson today. You have a lotion every night. That's why your mommy sings too much.\"\n",
      "\n",
      "From then on, Timmy's mommy made sure everyone was safe and happy. She knew that she had a great family and was always there to help her. The end.Once upon a time\n"
     ]
    }
   ],
   "source": [
    "sentence = \"A boy told his sister a bedtime story about a flying cat\"\n",
    "context = (torch.tensor(enc.encode_ordinary(sentence)).unsqueeze(dim = 0))\n",
    "y = model.generate(context, 200)\n",
    "print(enc.decode(y.squeeze().tolist()))"
   ]
  },
  {
   "cell_type": "code",
   "execution_count": 19,
   "id": "2567130f-8bb3-4e90-9069-adbfacea05ed",
   "metadata": {},
   "outputs": [
    {
     "name": "stdout",
     "output_type": "stream",
     "text": [
      "The kids sat in a circle while Uncle narrated a story about a brave knight and a dragon who wore a mask. They had fun pretending to fight scares the animals and save their planet. They learned that being brave can help you solve problems and friendship. They learned that napped is fun and flexible and wonderful.Anna and Ben are going on a big plane for the flight. They are very excited! They pack their bags and bring their toys and their snacks. They also pack some clothes and bags and get in the car.\n",
      "\n",
      "They go to the airport man and wait for their turn. The man says, \"Don't worry, I have a surprise for you. We are going to the airport soon.\"\n",
      "\n",
      "Anna and Ben are curious. They wonder what the surprise is. They wonder what the pilot says. They ask questions and sniffles, but they do not understand.\n",
      "\n",
      "The pilot had a big hat and a beard. He says, \"You can choose any flight.\"\n",
      "\n",
      "Anna and Ben think they have a new knowledge. They want to\n"
     ]
    }
   ],
   "source": [
    "sentence = \"The kids sat in a circle while Uncle narrated a story about a brave knight\"\n",
    "context = (torch.tensor(enc.encode_ordinary(sentence)).unsqueeze(dim = 0))\n",
    "y = model.generate(context, 200)\n",
    "print(enc.decode(y.squeeze().tolist()))"
   ]
  },
  {
   "cell_type": "code",
   "execution_count": 20,
   "id": "3e587d4a-96a8-461a-a4f8-b82eaee7c34f",
   "metadata": {},
   "outputs": [
    {
     "name": "stdout",
     "output_type": "stream",
     "text": [
      "Dad was telling the kids an adventure tale about a pirate ship coming to the shore. \n",
      "\n",
      "Suddenly, Dad showed John many pictures and showed him what to do. She chose a film for them to watch. \n",
      "John was excited. He had never seen one before and was intrigued.\n",
      "\n",
      "When they arrived, Dad handed John bookshelf safely. \"What have you got, John?\", asked Dad. John eagerly answered back to Dad. Dad explained that the businessman was a dinosaur that had been guarded by the sea. \n",
      "\n",
      "John thought about this for a reason and knew he was too happy with this movie. He said to Dad, \"Life is a really fun experience\". \n",
      "His Dad nodded and said, \"Yes, you can accept anything special. It was a very comfortable motorcycle.\"Once upon a time, there was a nice friendly little boy named John. Every day he would have endless their conversation and encouragement. He was so full of joy and excitement taking action.\n",
      "\n",
      "Today, John was playing in the backyard when\n"
     ]
    }
   ],
   "source": [
    "sentence = \"Dad was telling the kids an adventure tale about a pirate ship\"\n",
    "context = (torch.tensor(enc.encode_ordinary(sentence)).unsqueeze(dim = 0))\n",
    "y = model.generate(context, 200)\n",
    "print(enc.decode(y.squeeze().tolist()))"
   ]
  }
 ],
 "metadata": {
  "kernelspec": {
   "display_name": "Python 3 (ipykernel)",
   "language": "python",
   "name": "python3"
  },
  "language_info": {
   "codemirror_mode": {
    "name": "ipython",
    "version": 3
   },
   "file_extension": ".py",
   "mimetype": "text/x-python",
   "name": "python",
   "nbconvert_exporter": "python",
   "pygments_lexer": "ipython3",
   "version": "3.11.11"
  }
 },
 "nbformat": 4,
 "nbformat_minor": 5
}
